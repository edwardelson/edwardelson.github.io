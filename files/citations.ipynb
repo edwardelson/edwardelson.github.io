{
  "nbformat": 4,
  "nbformat_minor": 0,
  "metadata": {
    "colab": {
      "provenance": []
    },
    "kernelspec": {
      "name": "python3",
      "display_name": "Python 3"
    },
    "language_info": {
      "name": "python"
    }
  },
  "cells": [
    {
      "cell_type": "code",
      "execution_count": null,
      "metadata": {
        "id": "AwTPEwMtRP9i"
      },
      "outputs": [],
      "source": [
        "!pip install scholarly"
      ]
    },
    {
      "cell_type": "code",
      "source": [
        "import json\n",
        "from scholarly import scholarly\n",
        "from tqdm.notebook import tqdm"
      ],
      "metadata": {
        "id": "FCsN9DTWWz7Z"
      },
      "execution_count": 3,
      "outputs": []
    },
    {
      "cell_type": "markdown",
      "source": [
        "# Co-Authors Network"
      ],
      "metadata": {
        "id": "eZ55rqThTQaJ"
      }
    },
    {
      "cell_type": "code",
      "source": [
        "nodes = []\n",
        "edges = []\n",
        "nodeSet = set()"
      ],
      "metadata": {
        "id": "mGkma4JOURpt"
      },
      "execution_count": 89,
      "outputs": []
    },
    {
      "cell_type": "code",
      "source": [
        "first_author_name = \"Edward Elson Kosasih\"\n",
        "first_author = next(scholarly.search_author(first_author_name))\n",
        "first_author = scholarly.fill(first_author)\n",
        "first_author\n",
        "\n",
        "nodes.append({\"id\": first_author[\"name\"], \"group\": 0})\n",
        "nodeSet.add(first_author[\"name\"])"
      ],
      "metadata": {
        "id": "wofj0T6RT27I"
      },
      "execution_count": 90,
      "outputs": []
    },
    {
      "cell_type": "code",
      "source": [
        "# get tier 1 coauthors\n",
        "tier1_coauthors = first_author[\"coauthors\"]\n",
        "tier1_coauthors\n",
        "\n",
        "for tier1_coauthor in tier1_coauthors:\n",
        "  # add nodes\n",
        "  if tier1_coauthor[\"name\"] not in nodeSet:\n",
        "    nodes.append({\"id\": tier1_coauthor[\"name\"], \"group\": 1})\n",
        "    nodeSet.add(tier1_coauthor[\"name\"])\n",
        "\n",
        "  # add edges\n",
        "  edges.append({\"source\": first_author[\"name\"], \"target\": tier1_coauthor[\"name\"], \"value\": 0})"
      ],
      "metadata": {
        "id": "CE6zxGbVUDOA"
      },
      "execution_count": 82,
      "outputs": []
    },
    {
      "cell_type": "code",
      "source": [
        "# tier 2 coauthors\n",
        "for tier1_coauthor in tier1_coauthors:\n",
        "  tier1_coauthor_details = scholarly.fill(scholarly.search_author_id(tier1_coauthor[\"scholar_id\"]))\n",
        "  tier2_coauthors_i = tier1_coauthor_details[\"coauthors\"]\n",
        "\n",
        "  for tier2_coauthor_i in tier2_coauthors_i:\n",
        "    # skip first author\n",
        "    if tier2_coauthor_i[\"name\"] != first_author_name:\n",
        "      # add nodes\n",
        "      if tier2_coauthor_i[\"name\"] not in nodeSet:\n",
        "        nodes.append({\"id\": tier2_coauthor_i[\"name\"], \"group\": 2})\n",
        "        nodeSet.add(tier2_coauthor_i[\"name\"])\n",
        "\n",
        "      # add edges\n",
        "      edges.append({\"source\": tier1_coauthor[\"name\"], \"target\": tier2_coauthor_i[\"name\"], \"value\": 1})"
      ],
      "metadata": {
        "id": "-v_fKXE9VQ8z"
      },
      "execution_count": 83,
      "outputs": []
    },
    {
      "cell_type": "code",
      "source": [
        "with open('coauthor_citations.json', 'w') as f:\n",
        "  json.dump({\"nodes\": nodes, \"links\": edges}, f, indent=4)"
      ],
      "metadata": {
        "id": "FfJa2QZqRfX7"
      },
      "execution_count": 86,
      "outputs": []
    },
    {
      "cell_type": "markdown",
      "source": [
        "# Publications"
      ],
      "metadata": {
        "id": "4TF6RzrXfXht"
      }
    },
    {
      "cell_type": "code",
      "source": [
        "first_author_name = \"Edward Elson Kosasih\"\n",
        "first_author = next(scholarly.search_author(first_author_name))\n",
        "first_author = scholarly.fill(first_author)\n",
        "# first_author"
      ],
      "metadata": {
        "id": "agLdjH-ak27c"
      },
      "execution_count": 4,
      "outputs": []
    },
    {
      "cell_type": "code",
      "source": [
        "nodes = []\n",
        "edges = []\n",
        "nodeSet = set()\n",
        "\n",
        "# central node is myself\n",
        "nodes.append({\"id\": first_author_name, \"group\": 0})\n",
        "nodeSet.add(first_author_name)\n",
        "\n",
        "# add publications\n",
        "for _pub in first_author[\"publications\"]:\n",
        "  # search for details\n",
        "  pub = next(scholarly.search_pubs(_pub[\"bib\"][\"title\"]))\n",
        "  name = \"{}. {}. {}. {}\".format(\", \".join(pub[\"bib\"][\"author\"]), pub[\"bib\"][\"pub_year\"], pub[\"bib\"][\"title\"], pub[\"bib\"][\"venue\"])\n",
        "\n",
        "  # add my publication node\n",
        "  nodes.append({\"id\": name, \"group\": 1})\n",
        "  nodeSet.add(name)\n",
        "\n",
        "  # add edges\n",
        "  edges.append({\"source\": first_author_name, \"target\": name, \"value\": 0})\n",
        "\n",
        "  # add publications citing them\n",
        "  for cite in tqdm(scholarly.citedby(_pub)):\n",
        "    citename = \"{}. {}. {}. {}\".format(\", \".join(cite[\"bib\"][\"author\"]), cite[\"bib\"][\"pub_year\"], cite[\"bib\"][\"title\"], cite[\"bib\"][\"venue\"])\n",
        "  \n",
        "    if citename not in nodeSet:\n",
        "      nodes.append({\"id\": citename, \"group\": 2})\n",
        "      nodeSet.add(citename)\n",
        "\n",
        "    # add edges\n",
        "    edges.append({\"source\": name, \"target\": citename, \"value\": 1})\n"
      ],
      "metadata": {
        "id": "XclStL8nk2l_"
      },
      "execution_count": null,
      "outputs": []
    },
    {
      "cell_type": "code",
      "source": [
        "with open('publication_citations.json', 'w') as f:\n",
        "  json.dump({\"nodes\": nodes, \"links\": edges}, f, indent=4)"
      ],
      "metadata": {
        "id": "xTPEEaoyRf_Q"
      },
      "execution_count": 24,
      "outputs": []
    },
    {
      "cell_type": "code",
      "source": [],
      "metadata": {
        "id": "2fZoqw3y0MUo"
      },
      "execution_count": null,
      "outputs": []
    }
  ]
}